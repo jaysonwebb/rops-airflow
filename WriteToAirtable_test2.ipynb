{
 "cells": [
  {
   "cell_type": "markdown",
   "id": "bf2cd967-a2c4-4405-9bec-46a42945b0a1",
   "metadata": {},
   "source": [
    "# Overview\n",
    "\n",
    "This is for the second round of testing.  **Updated 26 July 2022**. \n",
    "\n",
    "- solved: retrieving multiple pages from Airtable\n",
    "- Next: using email to try to find individuals.  What do we do if an individual email maps to multiple companies?"
   ]
  },
  {
   "cell_type": "code",
   "execution_count": 24,
   "id": "f3f32bb6-0cc4-43f5-abba-f6d04ee3c8d9",
   "metadata": {},
   "outputs": [],
   "source": [
    "import pandas as pd\n",
    "import numpy as np\n",
    "import os\n",
    "import json \n",
    "import requests\n",
    "from airtable import airtable #You need to do a pip install airtable.  Page at https://pypi.org/project/airtable/\n",
    "from collections import Counter"
   ]
  },
  {
   "cell_type": "code",
   "execution_count": null,
   "id": "c10c704c-4bb8-42e5-9cb8-60b02bf677da",
   "metadata": {},
   "outputs": [],
   "source": [
    "#Read the secrets file\n",
    "def read_secrets(fn) -> dict:\n",
    "    filename = os.path.join(fn)\n",
    "    try:\n",
    "        with open(filename, mode='r') as f:\n",
    "            return json.loads(f.read())\n",
    "    except FileNotFoundError:\n",
    "        return {}"
   ]
  },
  {
   "cell_type": "code",
   "execution_count": null,
   "id": "7588fdef-e76a-4905-af2b-5ad3851ee54d",
   "metadata": {},
   "outputs": [],
   "source": [
    "#note the API base id is specific to the Airtable \"base\".  So, adjust the secrets and the ID to fit the specific Airtable base.\n",
    "#the api key is an account-wide value so shouldn't change.\n",
    "secret = read_secrets('secrets2.json')"
   ]
  },
  {
   "cell_type": "code",
   "execution_count": null,
   "id": "1a249bd2-38e8-4121-ba9f-349bd95fe533",
   "metadata": {},
   "outputs": [],
   "source": [
    "#Start by downloading data from Airtable\n",
    "#https://towardsdatascience.com/downloading-airtable-data-into-python-89e5c7107a24\n",
    "#reading participant database - Jayson copy.  Will need to change table id in secrets.json to use the real one.\n",
    "\n",
    "#Get a table in the Airtable base\n",
    "#see https://github.com/josephbestjames/airtable.py\n",
    "\n",
    "at = airtable.Airtable(secret['AIRTABLE_BASE_ID'], secret['AIRTABLE_API_KEY'])"
   ]
  },
  {
   "cell_type": "code",
   "execution_count": null,
   "id": "ab05cab1-138a-43df-a345-e6c599526971",
   "metadata": {},
   "outputs": [],
   "source": [
    "#Note, only returns 1 page = 100 records per request.  So, we'll need to do pagination.\n",
    "\n",
    "#Basically I want to write a recursion to make the next call until the current dict size is x<100, then exit.\n",
    "#But, before that, I'll get two pages and merge?  Or, should I work with them separately?  Could do either, maybe I don't need to merge.\n",
    "\n",
    "def get_all_records(pages,offset=None,count=0):\n",
    "    \n",
    "    count = count + 1\n",
    "    at_dict = at.get(secret['AIRTABLE_TABLE_ID'],offset=offset) \n",
    "    \n",
    "    if 'offset' in at_dict:\n",
    "        offset = at_dict['offset']\n",
    "        pages.append(at_dict) \n",
    "        if count % 10 ==0:\n",
    "            print(count,offset) #this is for debugging.  Remove in production version.\n",
    "            \n",
    "    else: #if there is no offset, that means that we hit the last page\n",
    "        pages.append(at_dict) \n",
    "        print(count,offset)\n",
    "        return(pages)\n",
    "        exit\n",
    "        \n",
    "    return(get_all_records(offset = offset,pages = pages,count=count))"
   ]
  },
  {
   "cell_type": "code",
   "execution_count": null,
   "id": "f457f659-5fe9-40b3-a0de-cf702e649c58",
   "metadata": {},
   "outputs": [],
   "source": [
    "#For now, need to pass these blank lists.  Might be a better way, like tuples or something.\n",
    "pages = []\n",
    "all_pages = get_all_records(pages=pages)"
   ]
  },
  {
   "cell_type": "code",
   "execution_count": 18,
   "id": "eebcae4e-e1ff-4249-89b5-b3050c52ef75",
   "metadata": {},
   "outputs": [
    {
     "name": "stdout",
     "output_type": "stream",
     "text": [
      "126 pages returned\n",
      "12546 records total\n"
     ]
    },
    {
     "data": {
      "text/plain": [
       "True"
      ]
     },
     "execution_count": 18,
     "metadata": {},
     "output_type": "execute_result"
    }
   ],
   "source": [
    "L = len(all_pages)\n",
    "print(f'{L} pages returned')\n",
    "p = 0\n",
    "for i in range(L):\n",
    "    p = p + len(all_pages[i]['records'])\n",
    "    \n",
    "print(f'{p} records total')\n",
    "\n",
    "'Record ID' in all_pages[125]['records'][0]['fields']"
   ]
  },
  {
   "cell_type": "code",
   "execution_count": 19,
   "id": "e336a966-fdaa-4a8e-adea-6dc7fbfe4afe",
   "metadata": {},
   "outputs": [],
   "source": [
    "#Check the number of unique email addresses. \n",
    "#Only get an email address if there is a Record ID.  Records without a Record ID are duplicates.\n",
    "\n",
    "L = len(all_pages) #L is the number of \"pages\".  Need to iterate through each set.\n",
    "emails = []\n",
    "for i in range(L):\n",
    "    for j in range(len(all_pages[i]['records'])):\n",
    "        f = all_pages[i]['records'][j]['fields']\n",
    "        if 'Record ID' in f:\n",
    "            e = all_pages[i]['records'][j]['fields']['Email']\n",
    "            if len(r) > 5:\n",
    "                emails.append(e)"
   ]
  },
  {
   "cell_type": "code",
   "execution_count": 27,
   "id": "58ae9c3e-b016-483d-8108-50a9e4ecd704",
   "metadata": {},
   "outputs": [
    {
     "name": "stdout",
     "output_type": "stream",
     "text": [
      "12535\n",
      "12449\n"
     ]
    },
    {
     "data": {
      "text/plain": [
       "12449"
      ]
     },
     "execution_count": 27,
     "metadata": {},
     "output_type": "execute_result"
    }
   ],
   "source": [
    "print(len(emails))\n",
    "print(len(Counter(emails).keys()))\n",
    "#So, we have duplicate emails\n",
    "unique_emails = Counter(emails).keys()\n",
    "len(unique_emails)"
   ]
  },
  {
   "cell_type": "code",
   "execution_count": null,
   "id": "2b707b49-4f4b-419d-8d19-eb614ec79a69",
   "metadata": {},
   "outputs": [],
   "source": [
    "# for i in range(rec):\n",
    "#     f = at_dict['records'][i]['fields']\n",
    "#     id = at_dict['records'][i]['id']\n",
    "#     n = at_dict['records'][i]['fields']['Email']\n",
    "#     if n == 'ayushman.sinhaa@gmail.com':\n",
    "#         print(i,id)"
   ]
  },
  {
   "cell_type": "code",
   "execution_count": null,
   "id": "446e38df-fc76-4e89-918e-00dbab8a550d",
   "metadata": {},
   "outputs": [],
   "source": [
    "#A field to update\n",
    "#update_data = {\"Email\": \"updated@viaAPI.com\"}\n",
    "#update_data"
   ]
  },
  {
   "cell_type": "code",
   "execution_count": null,
   "id": "6cbfa31d-fc57-4c06-97d5-44d0469ef031",
   "metadata": {},
   "outputs": [],
   "source": [
    "#Update the email address for a given record based on the record id (generated by AirTable)\n",
    "#Here, the id was obtained by matching the record id for name 'Nthabi Choma'\n",
    "#at.update(secret['AIRTABLE_TABLE_ID'], id, update_data)"
   ]
  },
  {
   "cell_type": "code",
   "execution_count": null,
   "id": "68f51ef8-33a2-42b5-8495-a195265796bc",
   "metadata": {},
   "outputs": [],
   "source": []
  }
 ],
 "metadata": {
  "kernelspec": {
   "display_name": "Python 3 (ipykernel)",
   "language": "python",
   "name": "python3"
  },
  "language_info": {
   "codemirror_mode": {
    "name": "ipython",
    "version": 3
   },
   "file_extension": ".py",
   "mimetype": "text/x-python",
   "name": "python",
   "nbconvert_exporter": "python",
   "pygments_lexer": "ipython3",
   "version": "3.8.3"
  }
 },
 "nbformat": 4,
 "nbformat_minor": 5
}
