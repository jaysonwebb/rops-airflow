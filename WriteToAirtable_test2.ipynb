{
 "cells": [
  {
   "cell_type": "markdown",
   "id": "bf2cd967-a2c4-4405-9bec-46a42945b0a1",
   "metadata": {},
   "source": [
    "# Overview\n",
    "\n",
    "This is for the second round of testing.  **Updated 25 July 2022**. The second round of testing will involve the files WriteToAirtable_test2.ipynb and 'secrets2.json' and will be focused on using an account sid from Airtable to (1) query data from Presto (probably for a subset of accounts) and (2) update one or more fields in Airtable. Again, we're just trying to see if things can be done at all. We might want to go ahead and scale to using Airflow at this stage."
   ]
  },
  {
   "cell_type": "code",
   "execution_count": 1,
   "id": "f3f32bb6-0cc4-43f5-abba-f6d04ee3c8d9",
   "metadata": {},
   "outputs": [],
   "source": [
    "import pandas as pd\n",
    "import numpy as np\n",
    "import os\n",
    "import json \n",
    "import requests\n",
    "import airtable #You need to do a pip install airtable.  Page at https://pypi.org/project/airtable/"
   ]
  },
  {
   "cell_type": "code",
   "execution_count": 2,
   "id": "c10c704c-4bb8-42e5-9cb8-60b02bf677da",
   "metadata": {},
   "outputs": [],
   "source": [
    "#Read the secrets file\n",
    "def read_secrets(fn) -> dict:\n",
    "    filename = os.path.join(fn)\n",
    "    try:\n",
    "        with open(filename, mode='r') as f:\n",
    "            return json.loads(f.read())\n",
    "    except FileNotFoundError:\n",
    "        return {}"
   ]
  },
  {
   "cell_type": "code",
   "execution_count": 4,
   "id": "7588fdef-e76a-4905-af2b-5ad3851ee54d",
   "metadata": {},
   "outputs": [
    {
     "name": "stdout",
     "output_type": "stream",
     "text": [
      "{'AIRTABLE_BASE_ID': 'apprqItUb711tE8aA', 'AIRTABLE_API_KEY': 'keyuydF6OLNGaGD3w', 'AIRTABLE_TABLE_ID': 'tblpIx9QHBGQbaz8y'}\n"
     ]
    }
   ],
   "source": [
    "#note the API base id is specific to the Airtable \"base\".  So, adjust the secrets and the ID to fit the specific Airtable base.\n",
    "#the api key is an account-wide value so shouldn't change.\n",
    "secret = read_secrets('secrets2.json')\n",
    "print(secret)"
   ]
  },
  {
   "cell_type": "code",
   "execution_count": 4,
   "id": "1a249bd2-38e8-4121-ba9f-349bd95fe533",
   "metadata": {},
   "outputs": [],
   "source": [
    "#Start by downloading data from Airtable\n",
    "#https://towardsdatascience.com/downloading-airtable-data-into-python-89e5c7107a24\n",
    "#reading participant database - Jayson copy.  Will need to change table id in secrets.json to use the real one.\n",
    "\n",
    "#Get a table in the Airtable base\n",
    "#see https://github.com/josephbestjames/airtable.py\n",
    "\n",
    "at = airtable.Airtable(secret['AIRTABLE_BASE_ID'], secret['AIRTABLE_API_KEY'])"
   ]
  },
  {
   "cell_type": "code",
   "execution_count": 5,
   "id": "ab05cab1-138a-43df-a345-e6c599526971",
   "metadata": {},
   "outputs": [],
   "source": [
    "at_dict = at.get(secret['AIRTABLE_TABLE_ID'])"
   ]
  },
  {
   "cell_type": "code",
   "execution_count": 7,
   "id": "11c8dfb6-1866-4e62-806f-44b3fc66dc3c",
   "metadata": {},
   "outputs": [
    {
     "data": {
      "text/plain": [
       "OrderedDict([('id', 'recwovKjXrKQQb3TG'),\n",
       "             ('createdTime', '2021-07-22T21:58:45.000Z'),\n",
       "             ('fields',\n",
       "              OrderedDict([('Name', 'Nthabi Choma'),\n",
       "                           ('Email', 'updated@viaAPI.com'),\n",
       "                           ('Job Focus', ['Data Scientist/Analyst']),\n",
       "                           ('Job Title', 'test'),\n",
       "                           ('Company Name', 'flex test'),\n",
       "                           ('Role Description',\n",
       "                            'Senior Leadership (i.e. Director VP)'),\n",
       "                           ('Years Coding', '3 - 5 years'),\n",
       "                           ('Twilio Products Used', ['Flex']),\n",
       "                           ('Twilio Messaging Use-Case', ['']),\n",
       "                           ('Messaging Volume (Monthly)', ''),\n",
       "                           ('Twilio Experience', \"I'm exploring using Twilio\"),\n",
       "                           ('Flex Role',\n",
       "                            ['Contact Center Agent: I work directly with customers to resolve their problems',\n",
       "                             'Product manager: I am responsible for setting requirements for our Contact Center software and tools.']),\n",
       "                           ('Employee Count', '11 - 100'),\n",
       "                           ('Role Using Twilio',\n",
       "                            ['I review metrics and performance']),\n",
       "                           ('Relationship with Twilio',\n",
       "                            'I am currently evaluating Twilio as a solution for my business'),\n",
       "                           ('Customer Type', ''),\n",
       "                           ('Messaging channels', ['']),\n",
       "                           ('Flex: CC Number of Agents',\n",
       "                            'Between 51-100 people'),\n",
       "                           ('Flex: CC Role Description',\n",
       "                            ['Contact Center Agent: I work directly with customers to resolve their problems',\n",
       "                             'Product manager: I am responsible for setting requirements for our Contact Center software and tools.']),\n",
       "                           ('Flex: CC Inbound Inquiries', '20001 - 50000'),\n",
       "                           ('Voice Channels', ['']),\n",
       "                           ('Country', 'United States'),\n",
       "                           ('Programmable Voice Channels', ['']),\n",
       "                           ('SendGrid Experience',\n",
       "                            'I have used Twilio SendGrid in the past but am no longer using it'),\n",
       "                           ('Segment Experience',\n",
       "                            \"I've used Twilio Segment for a few things but am still getting used to it\")]))])"
      ]
     },
     "execution_count": 7,
     "metadata": {},
     "output_type": "execute_result"
    }
   ],
   "source": [
    "at_dict['records'][2]"
   ]
  },
  {
   "cell_type": "code",
   "execution_count": 7,
   "id": "2b707b49-4f4b-419d-8d19-eb614ec79a69",
   "metadata": {},
   "outputs": [
    {
     "name": "stdout",
     "output_type": "stream",
     "text": [
      "1 recwovKjXrKQQb3TG\n"
     ]
    }
   ],
   "source": [
    "rec = len(at_dict['records'])\n",
    "\n",
    "for i in range(rec):\n",
    "    f = at_dict['records'][i]['fields']\n",
    "    id = at_dict['records'][i]['id']\n",
    "    n = at_dict['records'][i]['fields']['Name']\n",
    "    if n == 'Nthabi Choma':\n",
    "        print(i,id)"
   ]
  },
  {
   "cell_type": "code",
   "execution_count": 8,
   "id": "446e38df-fc76-4e89-918e-00dbab8a550d",
   "metadata": {},
   "outputs": [
    {
     "data": {
      "text/plain": [
       "{'Email': 'updated@viaAPI.com'}"
      ]
     },
     "execution_count": 8,
     "metadata": {},
     "output_type": "execute_result"
    }
   ],
   "source": [
    "#A field to update\n",
    "update_data = {\"Email\": \"updated@viaAPI.com\"}\n",
    "update_data"
   ]
  },
  {
   "cell_type": "code",
   "execution_count": 9,
   "id": "6cbfa31d-fc57-4c06-97d5-44d0469ef031",
   "metadata": {},
   "outputs": [
    {
     "data": {
      "text/plain": [
       "OrderedDict([('id', 'recwovKjXrKQQb3TG'),\n",
       "             ('createdTime', '2021-07-22T21:58:45.000Z'),\n",
       "             ('fields',\n",
       "              OrderedDict([('Name', 'Nthabi Choma'),\n",
       "                           ('Email', 'updated@viaAPI.com'),\n",
       "                           ('Job Focus', ['Data Scientist/Analyst']),\n",
       "                           ('Job Title', 'test'),\n",
       "                           ('Company Name', 'flex test'),\n",
       "                           ('Role Description',\n",
       "                            'Senior Leadership (i.e. Director VP)'),\n",
       "                           ('Years Coding', '3 - 5 years'),\n",
       "                           ('Twilio Products Used', ['Flex']),\n",
       "                           ('Twilio Messaging Use-Case', ['']),\n",
       "                           ('Messaging Volume (Monthly)', ''),\n",
       "                           ('Twilio Experience', \"I'm exploring using Twilio\"),\n",
       "                           ('Flex Role',\n",
       "                            ['Contact Center Agent: I work directly with customers to resolve their problems',\n",
       "                             'Product manager: I am responsible for setting requirements for our Contact Center software and tools.']),\n",
       "                           ('Employee Count', '11 - 100'),\n",
       "                           ('Role Using Twilio',\n",
       "                            ['I review metrics and performance']),\n",
       "                           ('Relationship with Twilio',\n",
       "                            'I am currently evaluating Twilio as a solution for my business'),\n",
       "                           ('Customer Type', ''),\n",
       "                           ('Messaging channels', ['']),\n",
       "                           ('Flex: CC Number of Agents',\n",
       "                            'Between 51-100 people'),\n",
       "                           ('Flex: CC Role Description',\n",
       "                            ['Contact Center Agent: I work directly with customers to resolve their problems',\n",
       "                             'Product manager: I am responsible for setting requirements for our Contact Center software and tools.']),\n",
       "                           ('Flex: CC Inbound Inquiries', '20001 - 50000'),\n",
       "                           ('Voice Channels', ['']),\n",
       "                           ('Country', 'United States'),\n",
       "                           ('Programmable Voice Channels', ['']),\n",
       "                           ('SendGrid Experience',\n",
       "                            'I have used Twilio SendGrid in the past but am no longer using it'),\n",
       "                           ('Segment Experience',\n",
       "                            \"I've used Twilio Segment for a few things but am still getting used to it\")]))])"
      ]
     },
     "execution_count": 9,
     "metadata": {},
     "output_type": "execute_result"
    }
   ],
   "source": [
    "#Update the email address for a given record based on the record id (generated by AirTable)\n",
    "#Here, the id was obtained by matching the record id for name 'Nthabi Choma'\n",
    "at.update(secret['AIRTABLE_TABLE_ID'], id, update_data)"
   ]
  },
  {
   "cell_type": "code",
   "execution_count": 10,
   "id": "42ff9213-2eff-41f1-9ef1-8729a3c740a1",
   "metadata": {},
   "outputs": [],
   "source": [
    "#new_data = {\"Name\": \"Python API\",\"Email\": \"python@API.com\"}\n",
    "new_data = at_dict['records'][2]"
   ]
  },
  {
   "cell_type": "code",
   "execution_count": 15,
   "id": "03018a42-b9b4-4178-8598-daa27d16adae",
   "metadata": {},
   "outputs": [],
   "source": [
    "new_data['fields']['Email'] = \"RR@movies.com\""
   ]
  },
  {
   "cell_type": "code",
   "execution_count": 14,
   "id": "af8777fe-c972-45ee-9fb6-4348605c8f7c",
   "metadata": {},
   "outputs": [
    {
     "data": {
      "text/plain": [
       "OrderedDict([('Name', 'Ryan Reynolds'),\n",
       "             ('Email', 'updated@viaAPI.com'),\n",
       "             ('Job Focus', ['Data Scientist/Analyst']),\n",
       "             ('Job Title', 'test'),\n",
       "             ('Company Name', 'flex test'),\n",
       "             ('Role Description', 'Senior Leadership (i.e. Director VP)'),\n",
       "             ('Years Coding', '3 - 5 years'),\n",
       "             ('Twilio Products Used', ['Flex']),\n",
       "             ('Twilio Messaging Use-Case', ['']),\n",
       "             ('Messaging Volume (Monthly)', ''),\n",
       "             ('Twilio Experience', \"I'm exploring using Twilio\"),\n",
       "             ('Flex Role',\n",
       "              ['Contact Center Agent: I work directly with customers to resolve their problems',\n",
       "               'Product manager: I am responsible for setting requirements for our Contact Center software and tools.']),\n",
       "             ('Employee Count', '11 - 100'),\n",
       "             ('Role Using Twilio', ['I review metrics and performance']),\n",
       "             ('Relationship with Twilio',\n",
       "              'I am currently evaluating Twilio as a solution for my business'),\n",
       "             ('Customer Type', ''),\n",
       "             ('Messaging channels', ['']),\n",
       "             ('Flex: CC Number of Agents', 'Between 51-100 people'),\n",
       "             ('Flex: CC Role Description',\n",
       "              ['Contact Center Agent: I work directly with customers to resolve their problems',\n",
       "               'Product manager: I am responsible for setting requirements for our Contact Center software and tools.']),\n",
       "             ('Flex: CC Inbound Inquiries', '20001 - 50000'),\n",
       "             ('Voice Channels', ['']),\n",
       "             ('Country', 'United States'),\n",
       "             ('Programmable Voice Channels', ['']),\n",
       "             ('SendGrid Experience',\n",
       "              'I have used Twilio SendGrid in the past but am no longer using it'),\n",
       "             ('Segment Experience',\n",
       "              \"I've used Twilio Segment for a few things but am still getting used to it\")])"
      ]
     },
     "execution_count": 14,
     "metadata": {},
     "output_type": "execute_result"
    }
   ],
   "source": [
    "new_data['fields']"
   ]
  },
  {
   "cell_type": "code",
   "execution_count": 17,
   "id": "fd69abd4-6600-4732-8bfe-cd492db17b7c",
   "metadata": {},
   "outputs": [
    {
     "data": {
      "text/plain": [
       "OrderedDict([('id', 'recxZVZ2PlT6wrE4i'),\n",
       "             ('createdTime', '2022-07-14T21:56:17.000Z'),\n",
       "             ('fields',\n",
       "              OrderedDict([('Name', 'Ryan Reynolds'),\n",
       "                           ('Email', 'RR@movies.com'),\n",
       "                           ('Job Focus', ['Data Scientist/Analyst']),\n",
       "                           ('Job Title', 'test'),\n",
       "                           ('Company Name', 'flex test'),\n",
       "                           ('Role Description',\n",
       "                            'Senior Leadership (i.e. Director VP)'),\n",
       "                           ('Years Coding', '3 - 5 years'),\n",
       "                           ('Twilio Products Used', ['Flex']),\n",
       "                           ('Twilio Messaging Use-Case', ['']),\n",
       "                           ('Messaging Volume (Monthly)', ''),\n",
       "                           ('Twilio Experience', \"I'm exploring using Twilio\"),\n",
       "                           ('Flex Role',\n",
       "                            ['Contact Center Agent: I work directly with customers to resolve their problems',\n",
       "                             'Product manager: I am responsible for setting requirements for our Contact Center software and tools.']),\n",
       "                           ('Employee Count', '11 - 100'),\n",
       "                           ('Role Using Twilio',\n",
       "                            ['I review metrics and performance']),\n",
       "                           ('Relationship with Twilio',\n",
       "                            'I am currently evaluating Twilio as a solution for my business'),\n",
       "                           ('Customer Type', ''),\n",
       "                           ('Messaging channels', ['']),\n",
       "                           ('Flex: CC Number of Agents',\n",
       "                            'Between 51-100 people'),\n",
       "                           ('Flex: CC Role Description',\n",
       "                            ['Contact Center Agent: I work directly with customers to resolve their problems',\n",
       "                             'Product manager: I am responsible for setting requirements for our Contact Center software and tools.']),\n",
       "                           ('Flex: CC Inbound Inquiries', '20001 - 50000'),\n",
       "                           ('Voice Channels', ['']),\n",
       "                           ('Country', 'United States'),\n",
       "                           ('Programmable Voice Channels', ['']),\n",
       "                           ('SendGrid Experience',\n",
       "                            'I have used Twilio SendGrid in the past but am no longer using it'),\n",
       "                           ('Segment Experience',\n",
       "                            \"I've used Twilio Segment for a few things but am still getting used to it\")]))])"
      ]
     },
     "execution_count": 17,
     "metadata": {},
     "output_type": "execute_result"
    }
   ],
   "source": [
    "#Add a partial record\n",
    "at.create(secret['AIRTABLE_TABLE_ID'], new_data['fields'])"
   ]
  },
  {
   "cell_type": "code",
   "execution_count": null,
   "id": "68f51ef8-33a2-42b5-8495-a195265796bc",
   "metadata": {},
   "outputs": [],
   "source": []
  }
 ],
 "metadata": {
  "kernelspec": {
   "display_name": "Python 3 (ipykernel)",
   "language": "python",
   "name": "python3"
  },
  "language_info": {
   "codemirror_mode": {
    "name": "ipython",
    "version": 3
   },
   "file_extension": ".py",
   "mimetype": "text/x-python",
   "name": "python",
   "nbconvert_exporter": "python",
   "pygments_lexer": "ipython3",
   "version": "3.8.3"
  }
 },
 "nbformat": 4,
 "nbformat_minor": 5
}
